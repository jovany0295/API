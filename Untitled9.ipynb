{
  "nbformat": 4,
  "nbformat_minor": 0,
  "metadata": {
    "colab": {
      "provenance": [],
      "authorship_tag": "ABX9TyNWiNRKkHI5FPjuJvrybW4a",
      "include_colab_link": true
    },
    "kernelspec": {
      "name": "python3",
      "display_name": "Python 3"
    },
    "language_info": {
      "name": "python"
    }
  },
  "cells": [
    {
      "cell_type": "markdown",
      "metadata": {
        "id": "view-in-github",
        "colab_type": "text"
      },
      "source": [
        "<a href=\"https://colab.research.google.com/github/jovany0295/API/blob/main/Untitled9.ipynb\" target=\"_parent\"><img src=\"https://colab.research.google.com/assets/colab-badge.svg\" alt=\"Open In Colab\"/></a>"
      ]
    },
    {
      "cell_type": "code",
      "execution_count": 2,
      "metadata": {
        "colab": {
          "base_uri": "https://localhost:8080/"
        },
        "id": "ZjZXP5GQBC5b",
        "outputId": "b64c456c-3bdf-4814-ad06-0cf71a189bfd"
      },
      "outputs": [
        {
          "output_type": "stream",
          "name": "stdout",
          "text": [
            "Age                  412\n",
            "Time_of_service      144\n",
            "Pay_Scale              9\n",
            "Work_Life_balance     11\n",
            "dtype: int64\n",
            "Valores faltantes por columna:\n",
            "Age                  412\n",
            "Time_of_service      144\n",
            "Pay_Scale              9\n",
            "Work_Life_balance     11\n",
            "dtype: int64\n",
            "\n",
            "Valores faltantes por fila:\n",
            "0    6433\n",
            "1     558\n",
            "2       9\n",
            "Name: count, dtype: int64\n"
          ]
        }
      ],
      "source": [
        "import pandas as pd\n",
        "df = pd.read_csv('Employees.csv')\n",
        "df.head()\n",
        "missing_values = df.isnull().sum()\n",
        "print(missing_values[missing_values > 0])\n",
        "missing_by_column = df.isnull().sum()\n",
        "print(\"Valores faltantes por columna:\")\n",
        "print(missing_by_column[missing_by_column > 0])\n",
        "missing_by_row = df.isnull().sum(axis=1)\n",
        "print(\"\\nValores faltantes por fila:\")\n",
        "print(missing_by_row.value_counts())\n"
      ]
    },
    {
      "cell_type": "code",
      "source": [
        "#imputar datos\n",
        "\n",
        "for column in df.select_dtypes(include=['object']).columns:\n",
        "    df[column].fillna(df[column].mode()[0], inplace=True)\n",
        "\n",
        "# Eliminar filas con valores faltantes\n",
        "df.dropna(inplace=True)\n",
        "\n",
        "# Eliminar columnas con valores faltantes si es más adecuado\n",
        "df.dropna(axis=1, inplace=True)"
      ],
      "metadata": {
        "id": "W2UpLKuzBL9J"
      },
      "execution_count": 3,
      "outputs": []
    },
    {
      "cell_type": "code",
      "source": [
        "import pandas as pd\n",
        "import pandas.cut as cut\n",
        "from sklearn.preprocessing import OneHotEncoder, KBinsDiscretizer\n",
        "from sklearn.ensemble import IsolationForest\n",
        "\n",
        "iso = IsolationForest(contamination=0.05)\n",
        "outliers = iso.fit_predict(df.select_dtypes(include=[float, int]))\n",
        "\n",
        "# Marcar valores atípicos\n",
        "df['Outlier'] = outliers\n",
        "\n",
        "# Filtrar datos no atípicos\n",
        "df_sin_atipicos = df[df['Outlier'] == 1].drop(columns=['Outlier'])\n",
        "\n",
        "print(f\"Data sin valores atípicos:\\n{df_sin_atipicos}\")"
      ],
      "metadata": {
        "colab": {
          "base_uri": "https://localhost:8080/",
          "height": 106
        },
        "id": "OC1Uv569BtsA",
        "outputId": "30a34475-1717-4a38-d147-aec46d22ec48"
      },
      "execution_count": 4,
      "outputs": [
        {
          "output_type": "error",
          "ename": "SyntaxError",
          "evalue": "invalid syntax (<ipython-input-4-ebd050d29b44>, line 2)",
          "traceback": [
            "\u001b[0;36m  File \u001b[0;32m\"<ipython-input-4-ebd050d29b44>\"\u001b[0;36m, line \u001b[0;32m2\u001b[0m\n\u001b[0;31m    import pandas.cut(\u001b[0m\n\u001b[0m                     ^\u001b[0m\n\u001b[0;31mSyntaxError\u001b[0m\u001b[0;31m:\u001b[0m invalid syntax\n"
          ]
        }
      ]
    },
    {
      "cell_type": "code",
      "source": [
        "df_encoded = pd.get_dummies(df_sin_atipicos, drop_first=True)\n",
        "\n",
        "print(f\"DataFrame después de One Hot Encoding:\\n{df_encoded.head()}\")\n",
        "df_encoded['binned_variable'] = pd.cut(df_encoded['nombre_variable_numerica'], bins=5, labels=False)\n",
        "\n",
        "print(f\"DataFrame después de aplicar binning:\\n{df_encoded.head()}\")"
      ],
      "metadata": {
        "id": "dwRncWJRH48l"
      },
      "execution_count": null,
      "outputs": []
    },
    {
      "cell_type": "code",
      "source": [
        "import pandas as pd\n",
        "from sklearn.decomposition import PCA\n",
        "from sklearn.manifold import TSNE\n",
        "import numpy as np\n",
        "import pandas as pd\n",
        "from sklearn.decomposition import FactorAnalysis\n",
        "\n",
        "pca = PCA(n_components=2)\n",
        "\n",
        "pca_result = pca.fit_transform(df_encoded)\n",
        "\n",
        "df_pca = pd.DataFrame(data=pca_result, columns=['PC1', 'PC2'])\n",
        "\n",
        "print(df_pca.head())\n",
        "\n",
        "df_pca.to_excel('pca_resultados.xlsx', index=False)\n",
        "fa = FactorAnalysis(n_components=2, random_state=42)\n",
        "\n",
        "fa_result = fa.fit_transform(df_encoded)\n",
        "\n",
        "# Crear un DataFrame\n",
        "df_fa = pd.DataFrame(data=fa_result, columns=['Factor1', 'Factor2'])\n",
        "\n",
        "print(df_fa.head())\n",
        "\n",
        "df_fa.to_excel('fa_resultados.xlsx', index=False)"
      ],
      "metadata": {
        "id": "iLQ3zaJTIAWf"
      },
      "execution_count": null,
      "outputs": []
    }
  ]
}